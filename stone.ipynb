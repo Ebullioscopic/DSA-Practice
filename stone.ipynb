{
 "cells": [
  {
   "cell_type": "code",
   "id": "initial_id",
   "metadata": {
    "collapsed": true,
    "ExecuteTime": {
     "end_time": "2025-03-17T09:56:01.198682Z",
     "start_time": "2025-03-17T09:56:01.192089Z"
    }
   },
   "source": [
    "from typing import List\n",
    "from copy import deepcopy\n",
    "class Solution:\n",
    "    def lastStoneWeight(self, stones: List[int]) -> int:\n",
    "        stones.sort(reverse=True)\n",
    "        sortedstones = stones\n",
    "        print(f\"Sorted:{sortedstones}\")\n",
    "        copiedsortedstones = deepcopy(sortedstones)\n",
    "        stack = []\n",
    "        for stone in copiedsortedstones:\n",
    "            if len(sortedstones) > 1:\n",
    "                if len(stack) == 0:\n",
    "                    stack.append(sortedstones.pop(0))\n",
    "                    stack.append(sortedstones.pop(0))\n",
    "                    if stack[0] == stack[1]:\n",
    "                        stack.pop()\n",
    "                        stack.pop()\n",
    "                    else:\n",
    "                        w1 = stack.pop()\n",
    "                        w2 = stack.pop()\n",
    "                        stack.append(abs(w1-w2))\n",
    "                else:\n",
    "                    stack.append(sortedstones.pop(0))\n",
    "                    if stack[0] == stack[1]:\n",
    "                        stack.pop()\n",
    "                        stack.pop()\n",
    "                    else:\n",
    "                        w1 = stack.pop()\n",
    "                        w2 = stack.pop()\n",
    "                        stack.append(abs(w1-w2))\n",
    "            elif len(sortedstones) == 1:\n",
    "                return sortedstones[0]\n",
    "            elif len(sortedstones) == 0:\n",
    "                return 0\n",
    "            print(stack)\n",
    "        return stack[0]"
   ],
   "outputs": [],
   "execution_count": 22
  },
  {
   "metadata": {
    "ExecuteTime": {
     "end_time": "2025-03-17T09:56:03.270715Z",
     "start_time": "2025-03-17T09:56:03.266385Z"
    }
   },
   "cell_type": "code",
   "source": "Solution().lastStoneWeight([1,3])",
   "id": "70834933c5982f81",
   "outputs": [
    {
     "name": "stdout",
     "output_type": "stream",
     "text": [
      "Sorted:[3, 1]\n",
      "[2]\n"
     ]
    },
    {
     "data": {
      "text/plain": [
       "0"
      ]
     },
     "execution_count": 23,
     "metadata": {},
     "output_type": "execute_result"
    }
   ],
   "execution_count": 23
  }
 ],
 "metadata": {
  "kernelspec": {
   "display_name": "Python 3",
   "language": "python",
   "name": "python3"
  },
  "language_info": {
   "codemirror_mode": {
    "name": "ipython",
    "version": 2
   },
   "file_extension": ".py",
   "mimetype": "text/x-python",
   "name": "python",
   "nbconvert_exporter": "python",
   "pygments_lexer": "ipython2",
   "version": "2.7.6"
  }
 },
 "nbformat": 4,
 "nbformat_minor": 5
}
