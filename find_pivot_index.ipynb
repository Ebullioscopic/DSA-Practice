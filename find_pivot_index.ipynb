{
 "cells": [
  {
   "cell_type": "code",
   "execution_count": null,
   "metadata": {},
   "outputs": [],
   "source": [
    "class Solution:\n",
    "    def pivotIndex(self, nums: list[int]) -> int:\n",
    "        print(\"Input List:\", nums)\n",
    "        for i in range(0,len(nums)):\n",
    "            print(\"Current Index:\", i)\n",
    "            if sum(nums[:i]) == sum(nums[i+1:]):\n",
    "                print(\"Pivot Index:\", i)\n",
    "                return i\n",
    "        print(\"No Pivot Index Found\")\n",
    "            # if sum(nums[:i]) == sum(nums[i:]):\n",
    "            #     return nums[i-1]\n",
    "        return -1"
   ]
  },
  {
   "cell_type": "code",
   "execution_count": 5,
   "metadata": {},
   "outputs": [
    {
     "name": "stdout",
     "output_type": "stream",
     "text": [
      "Input List: [1, 7, 3, 6, 5, 6]\n",
      "Current Index: 0\n",
      "Current Index: 1\n",
      "Current Index: 2\n",
      "Current Index: 3\n",
      "Pivot Index: 3\n"
     ]
    },
    {
     "data": {
      "text/plain": [
       "3"
      ]
     },
     "execution_count": 5,
     "metadata": {},
     "output_type": "execute_result"
    }
   ],
   "source": [
    "Solution().pivotIndex([1,7,3,6,5,6])"
   ]
  }
 ],
 "metadata": {
  "kernelspec": {
   "display_name": "venv",
   "language": "python",
   "name": "python3"
  },
  "language_info": {
   "codemirror_mode": {
    "name": "ipython",
    "version": 3
   },
   "file_extension": ".py",
   "mimetype": "text/x-python",
   "name": "python",
   "nbconvert_exporter": "python",
   "pygments_lexer": "ipython3",
   "version": "3.11.9"
  }
 },
 "nbformat": 4,
 "nbformat_minor": 2
}
