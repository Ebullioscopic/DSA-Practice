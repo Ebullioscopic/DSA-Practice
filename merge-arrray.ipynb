{
 "cells": [
  {
   "cell_type": "code",
   "execution_count": 1,
   "metadata": {},
   "outputs": [],
   "source": [
    "array = [\"a\",\"b\",\"c\",\"d\"]"
   ]
  },
  {
   "cell_type": "code",
   "execution_count": 2,
   "metadata": {},
   "outputs": [
    {
     "name": "stdout",
     "output_type": "stream",
     "text": [
      "['a', 'b', 'c', 'd']\n"
     ]
    }
   ],
   "source": [
    "print(array)"
   ]
  },
  {
   "cell_type": "code",
   "execution_count": 4,
   "metadata": {},
   "outputs": [
    {
     "name": "stdout",
     "output_type": "stream",
     "text": [
      "['b', 'c']\n"
     ]
    }
   ],
   "source": [
    "print(array[1:-1])"
   ]
  },
  {
   "cell_type": "code",
   "execution_count": 6,
   "metadata": {},
   "outputs": [
    {
     "name": "stdout",
     "output_type": "stream",
     "text": [
      "h\n"
     ]
    }
   ],
   "source": [
    "mystr = \"hello\"\n",
    "print(mystr[0])"
   ]
  },
  {
   "cell_type": "code",
   "execution_count": 11,
   "metadata": {},
   "outputs": [
    {
     "name": "stdout",
     "output_type": "stream",
     "text": [
      "5\n"
     ]
    }
   ],
   "source": [
    "print(len(\"hello\"))"
   ]
  },
  {
   "cell_type": "code",
   "execution_count": 5,
   "metadata": {},
   "outputs": [],
   "source": [
    "class Solution:\n",
    "    def gcdOfStrings(self, str1: str, str2: str) -> str:\n",
    "        def goStraight(bigString:str,subString:str):\n",
    "            print(\"Going straight\")\n",
    "            print(f\"Checking if {subString} is in {bigString}\")\n",
    "            if subString in bigString:\n",
    "                print(f\"{subString} is in {bigString}\")\n",
    "                return subString\n",
    "            else:\n",
    "                print(f\"{subString} is not in {bigString}\")\n",
    "                if len(subString) > 1:\n",
    "                    subString = subString.removesuffix(subString[-1])\n",
    "                    print(f\"Removing last character from {subString} to get {subString}\")\n",
    "                    return goStraight(bigString=bigString,subString=subString)\n",
    "                else:\n",
    "                    print(f\"Returning empty string from {subString}\")\n",
    "                    return \"\"\n",
    "        def goReverse(bigString:str,subString:str):\n",
    "            print(\"Going reverse\")\n",
    "            print(f\"Checking if {subString} is in {bigString}\")\n",
    "            if subString in bigString:\n",
    "                print(f\"{subString} is in {bigString}\")\n",
    "                return subString\n",
    "            else:\n",
    "                print(f\"{subString} is not in {bigString}\")\n",
    "                if len(subString) > 1:\n",
    "                    subString = subString.removeprefix(subString[0])\n",
    "                    print(f\"Removing first character from {subString} to get {subString}\")\n",
    "                    return goReverse(bigString=bigString,subString=subString)\n",
    "                else:\n",
    "                    print(f\"Returning empty string from {subString}\")\n",
    "                    return \"\"\n",
    "        # goStraight(str1,str2)\n",
    "        # goReverse(str1,str2)\n",
    "        # goStraight(str2,str1)\n",
    "        # goReverse(str2,str1)\n",
    "        if goStraight(str1,str2) != \"\":\n",
    "            return goStraight(str1,str2)\n",
    "        if goReverse(str1,str2) != \"\":\n",
    "            return goReverse(str1,str2) \n",
    "        if goStraight(str2,str1) != \"\":\n",
    "            return goStraight(str2,str1)\n",
    "        if goReverse(str2,str1) != \"\":\n",
    "            return goReverse(str2,str1) \n",
    "        print(\"Returning empty string\")\n",
    "        return \"\"\n"
   ]
  },
  {
   "cell_type": "code",
   "execution_count": 6,
   "metadata": {},
   "outputs": [
    {
     "name": "stdout",
     "output_type": "stream",
     "text": [
      "Going straight\n",
      "Checking if ABC is in ABCABC\n",
      "ABC is in ABCABC\n",
      "Going straight\n",
      "Checking if ABC is in ABCABC\n",
      "ABC is in ABCABC\n"
     ]
    },
    {
     "data": {
      "text/plain": [
       "'ABC'"
      ]
     },
     "execution_count": 6,
     "metadata": {},
     "output_type": "execute_result"
    }
   ],
   "source": [
    "Solution().gcdOfStrings(\"ABCABC\",\"ABC\")"
   ]
  }
 ],
 "metadata": {
  "kernelspec": {
   "display_name": "venv",
   "language": "python",
   "name": "python3"
  },
  "language_info": {
   "codemirror_mode": {
    "name": "ipython",
    "version": 3
   },
   "file_extension": ".py",
   "mimetype": "text/x-python",
   "name": "python",
   "nbconvert_exporter": "python",
   "pygments_lexer": "ipython3",
   "version": "3.11.9"
  }
 },
 "nbformat": 4,
 "nbformat_minor": 2
}
