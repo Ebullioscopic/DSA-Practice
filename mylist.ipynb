{
 "cells": [
  {
   "cell_type": "code",
   "execution_count": null,
   "metadata": {},
   "outputs": [],
   "source": [
    "class Solution:\n",
    "    def reverseWords(self, s: str) -> str:\n",
    "        mylist = s.split(\" \")\n",
    "        mylist.reverse()\n",
    "        print(mylist)\n",
    "        for snip in mylist:\n",
    "            if snip == \"\":\n",
    "                mylist.remove(snip)\n",
    "                continue\n",
    "            else:\n",
    "                continue\n",
    "        mystr = \" \".join(mylist)\n",
    "        #if mystr.startswith(\" \"):\n",
    "\n",
    "        return mystr"
   ]
  },
  {
   "cell_type": "code",
   "execution_count": 10,
   "metadata": {},
   "outputs": [
    {
     "name": "stdout",
     "output_type": "stream",
     "text": [
      "['example', '', '', 'good', 'a', '', '']\n"
     ]
    },
    {
     "data": {
      "text/plain": [
       "'example good a  '"
      ]
     },
     "execution_count": 10,
     "metadata": {},
     "output_type": "execute_result"
    }
   ],
   "source": [
    "Solution().reverseWords(\"  a good   example\")"
   ]
  }
 ],
 "metadata": {
  "kernelspec": {
   "display_name": "venv",
   "language": "python",
   "name": "python3"
  },
  "language_info": {
   "codemirror_mode": {
    "name": "ipython",
    "version": 3
   },
   "file_extension": ".py",
   "mimetype": "text/x-python",
   "name": "python",
   "nbconvert_exporter": "python",
   "pygments_lexer": "ipython3",
   "version": "3.11.9"
  }
 },
 "nbformat": 4,
 "nbformat_minor": 2
}
