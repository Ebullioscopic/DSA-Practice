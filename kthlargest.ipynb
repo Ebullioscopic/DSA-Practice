{
 "cells": [
  {
   "cell_type": "code",
   "id": "initial_id",
   "metadata": {
    "collapsed": true,
    "ExecuteTime": {
     "end_time": "2025-03-17T09:02:43.551655Z",
     "start_time": "2025-03-17T09:02:43.547732Z"
    }
   },
   "source": [
    "from typing import List\n",
    "class KthLargest:\n",
    "    k = None\n",
    "    nums = None\n",
    "    def __init__(self, k: int, nums: List[int]):\n",
    "        self.k = k\n",
    "        self.nums = nums\n",
    "        self.nums.sort(reverse=True)\n",
    "\n",
    "    def add(self, val: int) -> int:\n",
    "        insert_descending(self.nums,val)\n",
    "        #print(self.nums)\n",
    "        #print(self.k)\n",
    "        print(self.nums[self.k])\n",
    "        return self.nums[self.k]\n",
    "\n",
    "def insert_descending(list_desc, element):\n",
    "    index = 0\n",
    "    while index < len(list_desc) and list_desc[index] > element:\n",
    "        index += 1\n",
    "    list_desc.insert(index, element)"
   ],
   "outputs": [],
   "execution_count": 12
  },
  {
   "metadata": {
    "ExecuteTime": {
     "end_time": "2025-03-17T09:02:45.593212Z",
     "start_time": "2025-03-17T09:02:45.590244Z"
    }
   },
   "cell_type": "code",
   "source": [
    "obj = KthLargest(3, [4, 5, 8, 2])\n",
    "param_1 = obj.add(3)\n",
    "param_2 = obj.add(5)\n",
    "param_3 = obj.add(10)\n",
    "param_4 = obj.add(9)\n",
    "param_5 = obj.add(4)"
   ],
   "id": "2a1023b296f5e2b3",
   "outputs": [],
   "execution_count": 13
  }
 ],
 "metadata": {
  "kernelspec": {
   "display_name": "Python 3",
   "language": "python",
   "name": "python3"
  },
  "language_info": {
   "codemirror_mode": {
    "name": "ipython",
    "version": 2
   },
   "file_extension": ".py",
   "mimetype": "text/x-python",
   "name": "python",
   "nbconvert_exporter": "python",
   "pygments_lexer": "ipython2",
   "version": "2.7.6"
  }
 },
 "nbformat": 4,
 "nbformat_minor": 5
}
