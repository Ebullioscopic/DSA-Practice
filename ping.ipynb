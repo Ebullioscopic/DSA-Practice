{
 "cells": [
  {
   "cell_type": "code",
   "execution_count": 24,
   "metadata": {},
   "outputs": [],
   "source": [
    "class RecentCounter:\n",
    "    pingqueue = []\n",
    "    pingcounter = 0\n",
    "    def __init__(self):\n",
    "        pass\n",
    "\n",
    "    def ping(self, t: int) -> int:\n",
    "        #self.pingqueue.append(t)\n",
    "        if len(self.pingqueue) > 1:\n",
    "            print(\"con1\")\n",
    "            print(f\"Difference: {(t - self.pingqueue[-1])} - {(self.pingqueue[-1] - self.pingqueue[-2])} = {(t - self.pingqueue[-1]) > (self.pingqueue[-1] - self.pingqueue[-2] + 3000)}\")\n",
    "            if (t - self.pingqueue[-1]) > (self.pingqueue[-1] - self.pingqueue[-2] + 3000):\n",
    "                self.pingcounter += 1\n",
    "                self.pingqueue.append(t)\n",
    "                print(self.pingqueue)\n",
    "                print(\"lesser cond1\")\n",
    "                print(f\"Counter: {self.pingcounter}\")\n",
    "                \n",
    "                #return self.pingcounter\n",
    "            else:\n",
    "                self.pingqueue.append(t)\n",
    "                print(self.pingqueue)\n",
    "                print(\"lesser cond2\")\n",
    "                print(f\"Counter: {self.pingcounter}\")\n",
    "                #return self.pingcounter\n",
    "        else:\n",
    "            self.pingcounter += 1\n",
    "            self.pingqueue.append(t)    \n",
    "            print(self.pingqueue)       \n",
    "            print(\"cond2\")\n",
    "            print(f\"Counter: {self.pingcounter}\")\n",
    "            #return self.pingcounter \n",
    "        return self.pingcounter"
   ]
  },
  {
   "cell_type": "code",
   "execution_count": 25,
   "metadata": {},
   "outputs": [
    {
     "name": "stdout",
     "output_type": "stream",
     "text": [
      "[1]\n",
      "cond2\n",
      "Counter: 1\n",
      "[1, 100]\n",
      "cond2\n",
      "Counter: 2\n",
      "con1\n",
      "Difference: 2901 - 99 = False\n",
      "[1, 100, 3001]\n",
      "lesser cond2\n",
      "Counter: 2\n",
      "con1\n",
      "Difference: 1 - 2901 = False\n",
      "[1, 100, 3001, 3002]\n",
      "lesser cond2\n",
      "Counter: 2\n"
     ]
    },
    {
     "data": {
      "text/plain": [
       "2"
      ]
     },
     "execution_count": 25,
     "metadata": {},
     "output_type": "execute_result"
    }
   ],
   "source": [
    "obj = RecentCounter()\n",
    "obj.ping(1)\n",
    "obj.ping(100)\n",
    "obj.ping(3001)\n",
    "obj.ping(3002)"
   ]
  },
  {
   "cell_type": "code",
   "execution_count": null,
   "metadata": {},
   "outputs": [],
   "source": [
    "class RecentCounter:\n",
    "    pingqueue = []\n",
    "    pingcounter = 0\n",
    "    def __init__(self):\n",
    "        pass\n",
    "\n",
    "    def ping(self, t: int) -> int:\n",
    "        if len(self.pingqueue) > 1:\n",
    "            if (t - self.pingqueue[-1]) != (self.pingqueue[-1] - self.pingqueue[-2]):\n",
    "                self.pingcounter += 1\n",
    "                self.pingqueue.append(t)\n",
    "            else:\n",
    "                self.pingqueue.append(t)\n",
    "        else:\n",
    "            self.pingcounter += 1\n",
    "            self.pingqueue.append(t)    \n",
    "        return self.pingcounter"
   ]
  },
  {
   "cell_type": "code",
   "execution_count": 26,
   "metadata": {},
   "outputs": [],
   "source": [
    "class RecentCounter:\n",
    "    pingqueue = []\n",
    "    pingcounter = 0\n",
    "    left_pointer = 0\n",
    "    left_val = 0\n",
    "    right_val = 0\n",
    "    right_pointer = 0\n",
    "\n",
    "    def __init__(self):\n",
    "        pass\n",
    "\n",
    "    def ping(self, t: int) -> int:\n",
    "        if len(self.pingqueue) > 1:\n",
    "            self.right_val = t\n",
    "            self.left_val = t - 3000\n",
    "            self.pingqueue.append(t)\n",
    "            def get_sublist(data, lower_bound, upper_bound):\n",
    "                sublist = []\n",
    "                for element in data:\n",
    "                    if lower_bound <= element <= upper_bound:\n",
    "                        sublist.append(element)\n",
    "                    elif element > upper_bound:\n",
    "                        break  # Optimization: Stop iterating since the list is sorted\n",
    "                return sublist\n",
    "            self.pingqueue = get_sublist(self.pingqueue,self.left_val,self.right_val)\n",
    "        else:\n",
    "            self.pingqueue.append(t)\n",
    "        return len(self.pingqueue)"
   ]
  },
  {
   "cell_type": "code",
   "execution_count": 28,
   "metadata": {},
   "outputs": [
    {
     "name": "stdout",
     "output_type": "stream",
     "text": [
      "1\n",
      "2\n",
      "3\n",
      "3\n"
     ]
    }
   ],
   "source": [
    "obj = RecentCounter()\n",
    "print(obj.ping(1))\n",
    "print(obj.ping(100))\n",
    "print(obj.ping(3001))\n",
    "print(obj.ping(3002))"
   ]
  }
 ],
 "metadata": {
  "kernelspec": {
   "display_name": ".venv",
   "language": "python",
   "name": "python3"
  },
  "language_info": {
   "codemirror_mode": {
    "name": "ipython",
    "version": 3
   },
   "file_extension": ".py",
   "mimetype": "text/x-python",
   "name": "python",
   "nbconvert_exporter": "python",
   "pygments_lexer": "ipython3",
   "version": "3.13.2"
  }
 },
 "nbformat": 4,
 "nbformat_minor": 2
}
