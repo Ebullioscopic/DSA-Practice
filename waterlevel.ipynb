{
 "cells": [
  {
   "cell_type": "code",
   "execution_count": null,
   "metadata": {
    "vscode": {
     "languageId": "plaintext"
    }
   },
   "outputs": [],
   "source": [
    "min(1,1)"
   ]
  },
  {
   "cell_type": "code",
   "execution_count": null,
   "metadata": {
    "vscode": {
     "languageId": "plaintext"
    }
   },
   "outputs": [],
   "source": [
    "class Solution:\n",
    "    def maxArea(self, height: List[int]) -> int:\n",
    "        maxval = 0\n",
    "        def compare(left,right):\n",
    "            nonlocal maxval\n",
    "            area = (right - left)*min(height[left],height[right])\n",
    "            print(area)\n",
    "            print(f\"Left: {height[left]}, Right: {height[right]}\")\n",
    "            if right > left:\n",
    "                if height[left] < height[right]:\n",
    "                    if area > maxval:\n",
    "                        maxval = area\n",
    "                        compare(left+1,right)\n",
    "                    elif area < maxval:\n",
    "                        compare(left,right-1)\n",
    "                elif height[left] > height[right]:\n",
    "                    if area > maxval:\n",
    "                        maxval = area\n",
    "                        compare(left,right-1)\n",
    "                    elif area < maxval:\n",
    "                        compare(left+1,right)\n",
    "                else:\n",
    "                    if maxval == 0:\n",
    "                        maxval = area\n",
    "        compare(0,len(height)-1)\n",
    "        return maxval"
   ]
  }
 ],
 "metadata": {
  "language_info": {
   "name": "python"
  }
 },
 "nbformat": 4,
 "nbformat_minor": 2
}
