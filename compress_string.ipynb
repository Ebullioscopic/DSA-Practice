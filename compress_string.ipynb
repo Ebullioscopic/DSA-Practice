{
 "cells": [
  {
   "cell_type": "code",
   "execution_count": null,
   "metadata": {},
   "outputs": [],
   "source": [
    "from typing import List\n",
    "\n",
    "class Solution:\n",
    "    def compress(self, chars: List[str]) -> int:\n",
    "        stack = []\n",
    "        counter = 0\n",
    "        finalist = []\n",
    "        finalist = []\n",
    "        for char in chars:\n",
    "            if len(stack) == 0:\n",
    "                stack.append(char)\n",
    "                counter += 1\n",
    "            else:\n",
    "                if stack[-1] == char:\n",
    "                    stack.append(char)\n",
    "                    counter += 1\n",
    "                else:\n",
    "                    finalist.append(str(stack.pop()))\n",
    "                    finalist.append(str(counter))\n",
    "                    stack.clear()\n",
    "                    stack.append(char)\n",
    "                    counter = 1\n",
    "        if len(stack) !=0:\n",
    "            finalist.append(str(stack.pop()))\n",
    "            finalist.append(str(counter))\n",
    "        return finalist"
   ]
  },
  {
   "cell_type": "code",
   "execution_count": 14,
   "metadata": {},
   "outputs": [
    {
     "data": {
      "text/plain": [
       "['a', '2', 'b', '2', 'c', '3']"
      ]
     },
     "execution_count": 14,
     "metadata": {},
     "output_type": "execute_result"
    }
   ],
   "source": [
    "Solution().compress([\"a\",\"a\",\"b\",\"b\",\"c\",\"c\",\"c\"])"
   ]
  },
  {
   "cell_type": "code",
   "execution_count": 23,
   "metadata": {},
   "outputs": [],
   "source": [
    "class Solution:\n",
    "    def compress(self, chars: List[str]) -> int:\n",
    "        stack = []\n",
    "        counterlist = []\n",
    "        counter = 0\n",
    "        for char in chars:\n",
    "            if len(stack) == 0:\n",
    "                stack.append(char)\n",
    "                counter +=1\n",
    "                print(f\"char: {char}\")\n",
    "                chars.remove(char)\n",
    "            else:\n",
    "                if char == stack[-1]:\n",
    "                    counter += 1\n",
    "                    chars.remove(char)\n",
    "                else:\n",
    "                    print(f\"stack[-1] == char, appending {char}\")\n",
    "                    counterlist.append(counter)\n",
    "                    counter = 1\n",
    "                    stack.append(char)\n",
    "                    #stack.clear()\n",
    "                    print(f\"stack[-1] != char, popping {stack[-1]}\")\n",
    "        for charval in chars:\n",
    "            if len(counterlist) != 0:\n",
    "                insert_after(chars,charval,counterlist[0])\n",
    "                counterlist.pop(0)\n",
    "        return chars\n",
    "\n",
    "def insert_after(my_list, search_value, value):\n",
    "    try:\n",
    "        #print(f\"if len(stack) !=0, popping {stack[-1]}\")\n",
    "        index = my_list.index(search_value)\n",
    "        my_list.insert(index + 1, value)\n",
    "    except ValueError:\n",
    "        my_list.append(value)\n",
    "    return my_list"
   ]
  },
  {
   "cell_type": "code",
   "execution_count": 24,
   "metadata": {},
   "outputs": [
    {
     "name": "stdout",
     "output_type": "stream",
     "text": [
      "char: a\n",
      "stack[-1] == char, appending b\n",
      "stack[-1] != char, popping b\n",
      "stack[-1] == char, appending c\n",
      "stack[-1] != char, popping c\n"
     ]
    },
    {
     "data": {
      "text/plain": [
       "['a', 1, 2, 'b', 'c', 'c']"
      ]
     },
     "execution_count": 24,
     "metadata": {},
     "output_type": "execute_result"
    }
   ],
   "source": [
    "Solution().compress([\"a\",\"a\",\"b\",\"b\",\"c\",\"c\",\"c\"])"
   ]
  },
  {
   "cell_type": "code",
   "execution_count": null,
   "metadata": {},
   "outputs": [],
   "source": [
    "from copy import deepcopy\n",
    "class Solution:\n",
    "    def compress(self, chars: List[str]) -> int:\n",
    "        charqueue = []\n",
    "        countqueue = []\n",
    "        counter = 0\n",
    "        fakechars = deepcopy(chars)\n",
    "        for char in fakechars:\n",
    "            if not charqueue:\n",
    "                charqueue.append(char)\n",
    "                counter += 1\n",
    "            else:\n",
    "                if char == charqueue[-1]:\n",
    "                    counter += 1\n",
    "                    chars.remove(char)\n",
    "                else:\n",
    "                    countqueue.append(counter)\n",
    "                    charqueue.append(char)\n",
    "                    counter = 1\n",
    "        if len(chars) > 1:\n",
    "            if chars[-1] == chars[-2]:\n",
    "                chars.pop()\n",
    "        if countqueue:\n",
    "            if countqueue[-1] != counter and countqueue:\n",
    "                countqueue.append(counter)\n",
    "        else:\n",
    "            countqueue.append(counter)\n",
    "        newfakechars = deepcopy(chars)\n",
    "        for charval in newfakechars:\n",
    "            if len(countqueue) != 0:\n",
    "                insert_after(chars,charval,countqueue[0])\n",
    "                countqueue.pop(0)\n",
    "        newval = \"\".join(chars)\n",
    "        print(newval)\n",
    "        chars = deepcopy([*newval])\n",
    "        print(chars)\n",
    "        return len(chars)\n",
    "\n",
    "def insert_after(my_list, search_value, value):\n",
    "    if value == 1:\n",
    "        return my_list\n",
    "    try:\n",
    "        index = my_list.index(search_value)\n",
    "        my_list.insert(index + 1, str(value))\n",
    "    except ValueError:\n",
    "        my_list.append(str(value))\n",
    "    return my_list"
   ]
  },
  {
   "cell_type": "code",
   "execution_count": 80,
   "metadata": {},
   "outputs": [
    {
     "name": "stdout",
     "output_type": "stream",
     "text": [
      "ab12\n",
      "['a', 'b', '1', '2']\n"
     ]
    },
    {
     "data": {
      "text/plain": [
       "4"
      ]
     },
     "execution_count": 80,
     "metadata": {},
     "output_type": "execute_result"
    }
   ],
   "source": [
    "Solution().compress([\"a\",\"b\",\"b\",\"b\",\"b\",\"b\",\"b\",\"b\",\"b\",\"b\",\"b\",\"b\",\"b\"])"
   ]
  },
  {
   "cell_type": "code",
   "execution_count": 84,
   "metadata": {},
   "outputs": [
    {
     "name": "stdout",
     "output_type": "stream",
     "text": [
      "{1}\n",
      "[2, 3]\n"
     ]
    }
   ],
   "source": [
    "a = [1,2,3]\n",
    "b = [2,3,4]\n",
    "print(set(a)-set(b))\n",
    "print(list(set(b).intersection(set(a))))"
   ]
  },
  {
   "cell_type": "code",
   "execution_count": 2,
   "metadata": {},
   "outputs": [
    {
     "name": "stdout",
     "output_type": "stream",
     "text": [
      "['a', 'b', 'c', 'd', 'e']\n"
     ]
    }
   ],
   "source": [
    "print([*\"abcde\"])"
   ]
  },
  {
   "cell_type": "code",
   "execution_count": null,
   "metadata": {},
   "outputs": [],
   "source": [
    "from copy import deepcopy\n",
    "from typing import List\n",
    "class Solution:\n",
    "    def compress(self, chars: List[str]) -> int:\n",
    "        finalist = []\n",
    "        newerfinalist = []\n",
    "        stack = []\n",
    "        counter = 0\n",
    "        for char in chars:\n",
    "            if len(stack) == 0:\n",
    "                stack.append(char)\n",
    "                counter += 1\n",
    "                finalist.append(char)\n",
    "            else:\n",
    "                if char == stack[-1]:\n",
    "                    counter += 1\n",
    "                else:\n",
    "                    stack.append(char)\n",
    "                    if counter == 1:\n",
    "                        finalist.append(char)\n",
    "                    else:\n",
    "                        finalist.append(str(counter))\n",
    "                        finalist.append(char)\n",
    "                        counter == 1\n",
    "        if stack.pop() == finalist[-1] and counter != 1:\n",
    "            finalist.append(str(counter))\n",
    "        for charval in finalist:\n",
    "            if len(charval) > 1:\n",
    "                mylist = [*charval]\n",
    "                newerfinalist.extend(mylist)\n",
    "            else:\n",
    "                newerfinalist.append(charval)\n",
    "        chars = newerfinalist\n",
    "        return len(newerfinalist)"
   ]
  },
  {
   "cell_type": "code",
   "execution_count": 10,
   "metadata": {},
   "outputs": [],
   "source": [
    "from copy import deepcopy\n",
    "from typing import List\n",
    "class Solution:\n",
    "    def compress(self, chars: List[str]) -> int:\n",
    "        finalist = []\n",
    "        newerfinalist = []\n",
    "        stack = []\n",
    "        counter = 0\n",
    "        for char in chars:\n",
    "            if len(stack) == 0:\n",
    "                stack.append(char)\n",
    "                counter += 1\n",
    "                finalist.append(char)\n",
    "            else:\n",
    "                if char == stack[-1]:\n",
    "                    counter += 1\n",
    "                else:\n",
    "                    stack.append(char)\n",
    "                    if counter == 1:\n",
    "                        finalist.append(char)\n",
    "                    else:\n",
    "                        finalist.append(str(counter))\n",
    "                        finalist.append(char)\n",
    "                        counter = 1\n",
    "        if stack.pop() == finalist[-1] and counter != 1:\n",
    "            finalist.append(str(counter))\n",
    "        for charval in finalist:\n",
    "            if len(charval) > 1:\n",
    "                mylist = [*charval]\n",
    "                newerfinalist.extend(mylist)\n",
    "            else:\n",
    "                newerfinalist.append(charval)\n",
    "        print(finalist)\n",
    "        print(newerfinalist)\n",
    "        print(charval)\n",
    "        chars = newerfinalist\n",
    "        return len(newerfinalist)"
   ]
  },
  {
   "cell_type": "code",
   "execution_count": 11,
   "metadata": {},
   "outputs": [
    {
     "name": "stdout",
     "output_type": "stream",
     "text": [
      "['a', 'b', '12']\n",
      "['a', 'b', '1', '2']\n",
      "12\n"
     ]
    },
    {
     "data": {
      "text/plain": [
       "4"
      ]
     },
     "execution_count": 11,
     "metadata": {},
     "output_type": "execute_result"
    }
   ],
   "source": [
    "Solution().compress([\"a\",\"b\",\"b\",\"b\",\"b\",\"b\",\"b\",\"b\",\"b\",\"b\",\"b\",\"b\",\"b\"])"
   ]
  },
  {
   "cell_type": "code",
   "execution_count": 12,
   "metadata": {},
   "outputs": [
    {
     "name": "stdout",
     "output_type": "stream",
     "text": [
      "['a', '2', 'b', '2', 'c', '3']\n",
      "['a', '2', 'b', '2', 'c', '3']\n",
      "3\n"
     ]
    },
    {
     "data": {
      "text/plain": [
       "6"
      ]
     },
     "execution_count": 12,
     "metadata": {},
     "output_type": "execute_result"
    }
   ],
   "source": [
    "Solution().compress([\"a\",\"a\",\"b\",\"b\",\"c\",\"c\",\"c\"])"
   ]
  }
 ],
 "metadata": {
  "kernelspec": {
   "display_name": ".venv",
   "language": "python",
   "name": "python3"
  },
  "language_info": {
   "codemirror_mode": {
    "name": "ipython",
    "version": 3
   },
   "file_extension": ".py",
   "mimetype": "text/x-python",
   "name": "python",
   "nbconvert_exporter": "python",
   "pygments_lexer": "ipython3",
   "version": "3.13.2"
  }
 },
 "nbformat": 4,
 "nbformat_minor": 2
}
