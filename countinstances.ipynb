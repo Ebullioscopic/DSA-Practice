{
 "cells": [
  {
   "cell_type": "code",
   "id": "initial_id",
   "metadata": {
    "collapsed": true,
    "ExecuteTime": {
     "end_time": "2025-03-17T08:05:56.512555Z",
     "start_time": "2025-03-17T08:05:56.509302Z"
    }
   },
   "source": [
    "from typing import List\n",
    "class Solution:\n",
    "    def divideArray(self, nums: List[int]) -> bool:\n",
    "        n = len(nums)/2\n",
    "        uniquenums = list(set(nums))\n",
    "        mydict = {}\n",
    "        for i in uniquenums:\n",
    "            mydict[i] = nums.count(i)\n",
    "        print(mydict)\n",
    "        for key in mydict:\n",
    "            if mydict[key]%2 != 0:\n",
    "                return False\n",
    "            else:\n",
    "                pass\n",
    "        return True"
   ],
   "outputs": [],
   "execution_count": 5
  },
  {
   "metadata": {
    "ExecuteTime": {
     "end_time": "2025-03-17T08:05:58.101092Z",
     "start_time": "2025-03-17T08:05:58.097377Z"
    }
   },
   "cell_type": "code",
   "source": "Solution().divideArray([3,2,3,2,2,2])",
   "id": "54fb63ecd4352e2b",
   "outputs": [
    {
     "name": "stdout",
     "output_type": "stream",
     "text": [
      "{2: 4, 3: 2}\n"
     ]
    },
    {
     "data": {
      "text/plain": [
       "True"
      ]
     },
     "execution_count": 6,
     "metadata": {},
     "output_type": "execute_result"
    }
   ],
   "execution_count": 6
  }
 ],
 "metadata": {
  "kernelspec": {
   "display_name": "Python 3",
   "language": "python",
   "name": "python3"
  },
  "language_info": {
   "codemirror_mode": {
    "name": "ipython",
    "version": 2
   },
   "file_extension": ".py",
   "mimetype": "text/x-python",
   "name": "python",
   "nbconvert_exporter": "python",
   "pygments_lexer": "ipython2",
   "version": "2.7.6"
  }
 },
 "nbformat": 4,
 "nbformat_minor": 5
}
