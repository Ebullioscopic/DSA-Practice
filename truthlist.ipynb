{
 "cells": [
  {
   "cell_type": "code",
   "execution_count": null,
   "metadata": {},
   "outputs": [],
   "source": [
    "import copy\n",
    "class Solution:\n",
    "    def kidsWithCandies(self, candies: list[int], extraCandies: int) -> list[bool]:\n",
    "        templist = candies.copy()\n",
    "        truthlist = []\n",
    "        for i in range(0,len(candies)):\n",
    "            templist[i]+=extraCandies\n",
    "            if max(templist) == templist[i]:\n",
    "                truthlist.append(True)\n",
    "            else:\n",
    "                truthlist.append(False)\n",
    "            templist = candies.copy()\n",
    "        return truthlist"
   ]
  },
  {
   "cell_type": "code",
   "execution_count": 5,
   "metadata": {},
   "outputs": [
    {
     "name": "stdout",
     "output_type": "stream",
     "text": [
      "New Templist after adding: [5, 3, 5, 1, 3]\n",
      "Max:5\n",
      "Templist: [2, 3, 5, 1, 3]\n",
      "New Templist after adding: [2, 6, 5, 1, 3]\n",
      "Max:6\n",
      "Templist: [2, 3, 5, 1, 3]\n",
      "New Templist after adding: [2, 3, 8, 1, 3]\n",
      "Max:8\n",
      "Templist: [2, 3, 5, 1, 3]\n",
      "New Templist after adding: [2, 3, 5, 4, 3]\n",
      "Templist: [2, 3, 5, 1, 3]\n",
      "New Templist after adding: [2, 3, 5, 1, 6]\n",
      "Max:6\n",
      "Templist: [2, 3, 5, 1, 3]\n",
      "[True, True, True, False, True]\n"
     ]
    }
   ],
   "source": [
    "print(Solution().kidsWithCandies([2,3,5,1,3],3))"
   ]
  }
 ],
 "metadata": {
  "kernelspec": {
   "display_name": "venv",
   "language": "python",
   "name": "python3"
  },
  "language_info": {
   "codemirror_mode": {
    "name": "ipython",
    "version": 3
   },
   "file_extension": ".py",
   "mimetype": "text/x-python",
   "name": "python",
   "nbconvert_exporter": "python",
   "pygments_lexer": "ipython3",
   "version": "3.11.9"
  }
 },
 "nbformat": 4,
 "nbformat_minor": 2
}
