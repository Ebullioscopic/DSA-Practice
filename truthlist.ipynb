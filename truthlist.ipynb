{
 "cells": [
  {
   "cell_type": "code",
   "execution_count": null,
   "metadata": {},
   "outputs": [],
   "source": [
    "class Solution:\n",
    "    def kidsWithCandies(self, candies: List[int], extraCandies: int) -> List[bool]:\n",
    "        templist = candies\n",
    "        truthlist = []\n",
    "        for i in range(0,len(candies)):\n",
    "            templist[i]+=extraCandies\n",
    "            print(f\"New Templist after adding: {templist}\")\n",
    "            if max(templist) == templist[i]:\n",
    "                truthlist.append(True)\n",
    "                print(max(templist))\n",
    "            else:\n",
    "                truthlist.append(False)\n",
    "            templist = candies\n",
    "        return truthlist"
   ]
  },
  {
   "cell_type": "code",
   "execution_count": null,
   "metadata": {},
   "outputs": [],
   "source": [
    "print(Solution().kidsWithCandies([2,3,5,1,3],3))"
   ]
  }
 ],
 "metadata": {
  "kernelspec": {
   "display_name": "venv",
   "language": "python",
   "name": "python3"
  },
  "language_info": {
   "name": "python",
   "version": "3.11.9"
  }
 },
 "nbformat": 4,
 "nbformat_minor": 2
}
