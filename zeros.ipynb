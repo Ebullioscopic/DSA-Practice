{
 "cells": [
  {
   "cell_type": "code",
   "execution_count": 1,
   "metadata": {},
   "outputs": [],
   "source": [
    "class Solution:\n",
    "    def moveZeroes(self, nums: list[int]) -> None:\n",
    "        \"\"\"\n",
    "        Do not return anything, modify nums in-place instead.\n",
    "        \"\"\"\n",
    "        num_zeros = nums.count(0)\n",
    "        print(f\"Num zeros: {num_zeros}\")\n",
    "        nums = remove_items(nums,0)\n",
    "        print(f\"After removing: {nums}\")\n",
    "        for i in range(0,num_zeros):\n",
    "            nums.append(int(0))\n",
    "        print(f\"After adding:{nums}\")\n",
    "\n",
    "def remove_items(test_list, item): \n",
    "  \n",
    "    # using filter() + __ne__ to perform the task \n",
    "    res = list(filter((item).__ne__, test_list)) \n",
    "    return res"
   ]
  },
  {
   "cell_type": "code",
   "execution_count": 2,
   "metadata": {},
   "outputs": [
    {
     "name": "stdout",
     "output_type": "stream",
     "text": [
      "Num zeros: 2\n",
      "After removing: [1, 3, 12]\n",
      "After adding:[1, 3, 12, 0, 0]\n"
     ]
    }
   ],
   "source": [
    "Solution().moveZeroes([0,1,0,3,12])"
   ]
  }
 ],
 "metadata": {
  "kernelspec": {
   "display_name": "venv",
   "language": "python",
   "name": "python3"
  },
  "language_info": {
   "codemirror_mode": {
    "name": "ipython",
    "version": 3
   },
   "file_extension": ".py",
   "mimetype": "text/x-python",
   "name": "python",
   "nbconvert_exporter": "python",
   "pygments_lexer": "ipython3",
   "version": "3.11.9"
  }
 },
 "nbformat": 4,
 "nbformat_minor": 2
}
