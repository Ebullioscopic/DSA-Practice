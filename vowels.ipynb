{
 "cells": [
  {
   "cell_type": "code",
   "execution_count": 3,
   "metadata": {},
   "outputs": [],
   "source": [
    "import re\n",
    "class Solution:\n",
    "    def reverseVowels(self, s: str) -> str:\n",
    "        def is_vowel(character): \n",
    "            if re.match(r'[aeiouAEIOU]', character): \n",
    "                return True\n",
    "            else:\n",
    "                return False\n",
    "        charlist = [*s]\n",
    "        vowelist = []\n",
    "        newlist = []\n",
    "        for char in charlist:\n",
    "            if is_vowel(char):\n",
    "                vowelist.append(char)\n",
    "            else:\n",
    "                pass\n",
    "        vowelist.reverse()\n",
    "        for char in charlist:\n",
    "            if is_vowel(char):\n",
    "                newlist.append(vowelist.pop(0))\n",
    "            else:\n",
    "                newlist.append(char)\n",
    "        return \"\".join(newlist)\n"
   ]
  },
  {
   "cell_type": "code",
   "execution_count": 4,
   "metadata": {},
   "outputs": [
    {
     "data": {
      "text/plain": [
       "'AceCreIm'"
      ]
     },
     "execution_count": 4,
     "metadata": {},
     "output_type": "execute_result"
    }
   ],
   "source": [
    "Solution().reverseVowels(\"IceCreAm\")"
   ]
  },
  {
   "cell_type": "code",
   "execution_count": null,
   "metadata": {},
   "outputs": [],
   "source": [
    "from collections import deque\n",
    "class Solution:\n",
    "    def removeStars(self, s: str) -> str:\n",
    "        mylist = [*s]\n",
    "        restack = deque()\n",
    "\n",
    "        for char in mylist:\n",
    "            if char != \"*\":\n",
    "                restack.append(char)\n",
    "            elif char == \"*\" and len(restack) != 0:\n",
    "                restack.pop()\n",
    "        return \"\".join(restack)"
   ]
  }
 ],
 "metadata": {
  "kernelspec": {
   "display_name": "venv",
   "language": "python",
   "name": "python3"
  },
  "language_info": {
   "codemirror_mode": {
    "name": "ipython",
    "version": 3
   },
   "file_extension": ".py",
   "mimetype": "text/x-python",
   "name": "python",
   "nbconvert_exporter": "python",
   "pygments_lexer": "ipython3",
   "version": "3.11.9"
  }
 },
 "nbformat": 4,
 "nbformat_minor": 2
}
