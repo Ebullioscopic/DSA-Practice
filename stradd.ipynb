{
 "cells": [
  {
   "cell_type": "code",
   "execution_count": null,
   "id": "dbbb11b4",
   "metadata": {},
   "outputs": [],
   "source": [
    "import string\n",
    "class Solution:\n",
    "    def kthCharacter(self, k: int) -> str:\n",
    "        numbers = range(len(string.ascii_lowercase))\n",
    "        char_dict = dict(zip(string.ascii_lowercase,numbers))\n",
    "        def rangeaddone(num):\n",
    "            if num == 26:\n",
    "                return 0\n",
    "            else:\n",
    "                return num + 1\n",
    "        def viceversa(val):\n",
    "            if type(val) == int:\n",
    "                return [key for key,value in char_dict.items() if value == val][0]\n",
    "            elif type(val) == str:\n",
    "                return char_dict[val]\n",
    "        def recursive_call(mystrlist):\n",
    "            newstrlist = []\n",
    "            if len(mystrlist) < k:\n",
    "                for char in mystrlist:\n",
    "                    newstrlist.append(viceversa(rangeaddone(viceversa(char))))\n",
    "                mystrlist = recursive_call(mystrlist + newstrlist)\n",
    "            return mystrlist\n",
    "        val = recursive_call([\"a\"])[k-1]\n",
    "        return val\n",
    "        "
   ]
  },
  {
   "cell_type": "code",
   "execution_count": 14,
   "id": "6bf81a83",
   "metadata": {},
   "outputs": [
    {
     "data": {
      "text/plain": [
       "'b'"
      ]
     },
     "execution_count": 14,
     "metadata": {},
     "output_type": "execute_result"
    }
   ],
   "source": [
    "Solution().kthCharacter(5)  # Example usage, you can remove this line"
   ]
  }
 ],
 "metadata": {
  "kernelspec": {
   "display_name": ".venv (3.13.2)",
   "language": "python",
   "name": "python3"
  },
  "language_info": {
   "codemirror_mode": {
    "name": "ipython",
    "version": 3
   },
   "file_extension": ".py",
   "mimetype": "text/x-python",
   "name": "python",
   "nbconvert_exporter": "python",
   "pygments_lexer": "ipython3",
   "version": "3.13.2"
  }
 },
 "nbformat": 4,
 "nbformat_minor": 5
}
