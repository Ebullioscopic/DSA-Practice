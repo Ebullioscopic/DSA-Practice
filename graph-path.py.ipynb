{
 "cells": [
  {
   "cell_type": "code",
   "execution_count": 1,
   "id": "initial_id",
   "metadata": {
    "ExecuteTime": {
     "end_time": "2025-02-01T13:30:02.280768Z",
     "start_time": "2025-02-01T13:30:02.274736Z"
    },
    "collapsed": true
   },
   "outputs": [
    {
     "name": "stdout",
     "output_type": "stream",
     "text": [
      "Hello\n"
     ]
    }
   ],
   "source": [
    "print(\"Hello\")"
   ]
  },
  {
   "cell_type": "code",
   "execution_count": 4,
   "id": "11687debdab847d2",
   "metadata": {},
   "outputs": [],
   "source": [
    "from collections import defaultdict, deque\n",
    "\n",
    "def validPath(n, edges, source, destination):\n",
    "    # Step 1: Build the graph as an adjacency list\n",
    "    graph = defaultdict(list)\n",
    "    for u, v in edges:\n",
    "        graph[u].append(v)\n",
    "        graph[v].append(u)\n",
    "\n",
    "    # Step 2: Initialize BFS queue and visited set\n",
    "    print(f\"Graph: {dict(graph)}\")\n",
    "    queue = deque([source])  # Start from source\n",
    "    visited = set([source])  # Mark source as visited\n",
    "\n",
    "    # Step 3: Perform BFS\n",
    "    print(f\"Starting BFS with initial queue: {list(queue)} and visited: {visited}\")\n",
    "    while queue:\n",
    "        node = queue.popleft()  # Remove first element (FIFO)\n",
    "        \n",
    "        # Step 4: Check if we reached the destination\n",
    "        print(f\"Dequeued node: {node}\")\n",
    "\n",
    "        if node == destination:\n",
    "            print(f\"Destination {destination} reached!\")\n",
    "            return True\n",
    "\n",
    "            \n",
    "        # Step 5: Add all unvisited neighbors to the queue\n",
    "        for neighbor in graph[node]:\n",
    "            if neighbor not in visited:\n",
    "                visited.add(neighbor)\n",
    "                queue.append(neighbor)\n",
    "\n",
    "    # Step 6: If BFS completes without finding the destination, return False\n",
    "                print(f\"Added neighbor {neighbor} to queue. Current queue: {list(queue)}\")\n",
    "    print(\"Destination not found. Returning False\")\n",
    "    return False\n"
   ]
  },
  {
   "cell_type": "code",
   "execution_count": 5,
   "id": "907ecaff",
   "metadata": {},
   "outputs": [
    {
     "name": "stdout",
     "output_type": "stream",
     "text": [
      "Graph: {0: [1, 2], 1: [0, 2], 2: [1, 0]}\n",
      "Starting BFS with initial queue: [0] and visited: {0}\n",
      "Dequeued node: 0\n",
      "Added neighbor 1 to queue. Current queue: [1]\n",
      "Added neighbor 2 to queue. Current queue: [1, 2]\n",
      "Dequeued node: 1\n",
      "Dequeued node: 2\n",
      "Destination 2 reached!\n"
     ]
    },
    {
     "data": {
      "text/plain": [
       "True"
      ]
     },
     "execution_count": 5,
     "metadata": {},
     "output_type": "execute_result"
    }
   ],
   "source": [
    "validPath(3,[[0,1],[1,2],[2,0]],0,2)"
   ]
  }
 ],
 "metadata": {
  "kernelspec": {
   "display_name": "venv",
   "language": "python",
   "name": "python3"
  },
  "language_info": {
   "codemirror_mode": {
    "name": "ipython",
    "version": 3
   },
   "file_extension": ".py",
   "mimetype": "text/x-python",
   "name": "python",
   "nbconvert_exporter": "python",
   "pygments_lexer": "ipython3",
   "version": "3.11.9"
  }
 },
 "nbformat": 4,
 "nbformat_minor": 5
}
