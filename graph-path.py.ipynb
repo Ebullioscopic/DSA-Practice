{
 "cells": [
  {
   "cell_type": "code",
   "execution_count": 1,
   "id": "initial_id",
   "metadata": {
    "ExecuteTime": {
     "end_time": "2025-02-01T13:30:02.280768Z",
     "start_time": "2025-02-01T13:30:02.274736Z"
    },
    "collapsed": true
   },
   "outputs": [
    {
     "name": "stdout",
     "output_type": "stream",
     "text": [
      "Hello\n"
     ]
    }
   ],
   "source": [
    "print(\"Hello\")"
   ]
  },
  {
   "cell_type": "code",
   "execution_count": null,
   "id": "11687debdab847d2",
   "metadata": {},
   "outputs": [],
   "source": [
    "from collections import defaultdict, deque\n",
    "\n",
    "def validPath(n, edges, source, destination):\n",
    "    # Step 1: Build the graph as an adjacency list\n",
    "    graph = defaultdict(list)\n",
    "    for u, v in edges:\n",
    "        graph[u].append(v)\n",
    "        graph[v].append(u)\n",
    "\n",
    "    # Step 2: Initialize BFS queue and visited set\n",
    "    queue = deque([source])  # Start from source\n",
    "    visited = set([source])  # Mark source as visited\n",
    "\n",
    "    # Step 3: Perform BFS\n",
    "    while queue:\n",
    "        node = queue.popleft()  # Remove first element (FIFO)\n",
    "        \n",
    "        # Step 4: Check if we reached the destination\n",
    "        if node == destination:\n",
    "            return True\n",
    "\n",
    "        # Step 5: Add all unvisited neighbors to the queue\n",
    "        for neighbor in graph[node]:\n",
    "            if neighbor not in visited:\n",
    "                visited.add(neighbor)\n",
    "                queue.append(neighbor)\n",
    "\n",
    "    # Step 6: If BFS completes without finding the destination, return False\n",
    "    return False\n"
   ]
  }
 ],
 "metadata": {
  "kernelspec": {
   "display_name": "Python 3",
   "language": "python",
   "name": "python3"
  },
  "language_info": {
   "codemirror_mode": {
    "name": "ipython",
    "version": 2
   },
   "file_extension": ".py",
   "mimetype": "text/x-python",
   "name": "python",
   "nbconvert_exporter": "python",
   "pygments_lexer": "ipython2",
   "version": "2.7.6"
  }
 },
 "nbformat": 4,
 "nbformat_minor": 5
}
